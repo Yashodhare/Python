{
 "cells": [
  {
   "cell_type": "code",
   "execution_count": 1,
   "id": "b9313c17-a71c-4ed9-80a1-c62ba4190000",
   "metadata": {},
   "outputs": [
    {
     "ename": "FileNotFoundError",
     "evalue": "[Errno 2] No such file or directory: 'Book1.csv'",
     "output_type": "error",
     "traceback": [
      "\u001b[1;31m---------------------------------------------------------------------------\u001b[0m",
      "\u001b[1;31mFileNotFoundError\u001b[0m                         Traceback (most recent call last)",
      "Cell \u001b[1;32mIn[1], line 2\u001b[0m\n\u001b[0;32m      1\u001b[0m \u001b[38;5;28;01mimport\u001b[39;00m \u001b[38;5;21;01mcsv\u001b[39;00m\n\u001b[1;32m----> 2\u001b[0m \u001b[38;5;28;01mwith\u001b[39;00m \u001b[38;5;28mopen\u001b[39m(\u001b[38;5;124m'\u001b[39m\u001b[38;5;124mBook1.csv\u001b[39m\u001b[38;5;124m'\u001b[39m,\u001b[38;5;124m'\u001b[39m\u001b[38;5;124mr\u001b[39m\u001b[38;5;124m'\u001b[39m) \u001b[38;5;28;01mas\u001b[39;00m file:\n\u001b[0;32m      3\u001b[0m         reader\u001b[38;5;241m=\u001b[39mcsv\u001b[38;5;241m.\u001b[39mDictreader(file)\n\u001b[0;32m      4\u001b[0m         numbers\u001b[38;5;241m=\u001b[39m\u001b[38;5;28mlist\u001b[39m(reader)\n",
      "File \u001b[1;32m~\\anaconda3\\Lib\\site-packages\\IPython\\core\\interactiveshell.py:286\u001b[0m, in \u001b[0;36m_modified_open\u001b[1;34m(file, *args, **kwargs)\u001b[0m\n\u001b[0;32m    279\u001b[0m \u001b[38;5;28;01mif\u001b[39;00m file \u001b[38;5;129;01min\u001b[39;00m {\u001b[38;5;241m0\u001b[39m, \u001b[38;5;241m1\u001b[39m, \u001b[38;5;241m2\u001b[39m}:\n\u001b[0;32m    280\u001b[0m     \u001b[38;5;28;01mraise\u001b[39;00m \u001b[38;5;167;01mValueError\u001b[39;00m(\n\u001b[0;32m    281\u001b[0m         \u001b[38;5;124mf\u001b[39m\u001b[38;5;124m\"\u001b[39m\u001b[38;5;124mIPython won\u001b[39m\u001b[38;5;124m'\u001b[39m\u001b[38;5;124mt let you open fd=\u001b[39m\u001b[38;5;132;01m{\u001b[39;00mfile\u001b[38;5;132;01m}\u001b[39;00m\u001b[38;5;124m by default \u001b[39m\u001b[38;5;124m\"\u001b[39m\n\u001b[0;32m    282\u001b[0m         \u001b[38;5;124m\"\u001b[39m\u001b[38;5;124mas it is likely to crash IPython. If you know what you are doing, \u001b[39m\u001b[38;5;124m\"\u001b[39m\n\u001b[0;32m    283\u001b[0m         \u001b[38;5;124m\"\u001b[39m\u001b[38;5;124myou can use builtins\u001b[39m\u001b[38;5;124m'\u001b[39m\u001b[38;5;124m open.\u001b[39m\u001b[38;5;124m\"\u001b[39m\n\u001b[0;32m    284\u001b[0m     )\n\u001b[1;32m--> 286\u001b[0m \u001b[38;5;28;01mreturn\u001b[39;00m io_open(file, \u001b[38;5;241m*\u001b[39margs, \u001b[38;5;241m*\u001b[39m\u001b[38;5;241m*\u001b[39mkwargs)\n",
      "\u001b[1;31mFileNotFoundError\u001b[0m: [Errno 2] No such file or directory: 'Book1.csv'"
     ]
    }
   ],
   "source": [
    "import csv\n",
    "with open('Book1.csv','r') as file:\n",
    "        reader=csv.Dictreader(file)\n",
    "        numbers=list(reader)\n",
    "\n",
    "even_numbers=[number for number in numbers if number%2==0]\n",
    "print(even_numbers)\n",
    "\n",
    "        "
   ]
  },
  {
   "cell_type": "code",
   "execution_count": 7,
   "id": "f4af30d6-89f4-4346-8c2f-ef643c9e324f",
   "metadata": {},
   "outputs": [
    {
     "name": "stdin",
     "output_type": "stream",
     "text": [
      "Enter principal amount 7500\n",
      "Enter time duration 2\n",
      "Enter rate of interest 10\n"
     ]
    },
    {
     "name": "stdout",
     "output_type": "stream",
     "text": [
      "The simple interest is = 1500.0\n"
     ]
    }
   ],
   "source": [
    "p=int(input('Enter principal amount'))\n",
    "t=int(input('Enter time duration'))\n",
    "r=int(input('Enter rate of interest'))\n",
    "si=p*t*r/100\n",
    "print(f'The simple interest is = {si}')"
   ]
  },
  {
   "cell_type": "code",
   "execution_count": null,
   "id": "96c1ed26-4072-4452-b0fd-afc559b97a97",
   "metadata": {},
   "outputs": [],
   "source": []
  },
  {
   "cell_type": "code",
   "execution_count": null,
   "id": "efc1a18c-8698-44a3-b83b-81eb03c6b73c",
   "metadata": {},
   "outputs": [],
   "source": []
  },
  {
   "cell_type": "code",
   "execution_count": 19,
   "id": "0a43d45d-6ed3-46de-aca7-5320b769b693",
   "metadata": {},
   "outputs": [
    {
     "name": "stdout",
     "output_type": "stream",
     "text": [
      "1200000\n"
     ]
    }
   ],
   "source": [
    "class Employee:\n",
    "    def __init__(self,name,position,salary):\n",
    "        self.name=name\n",
    "        self.position=position\n",
    "        self.salary=salary\n",
    "    def get_annual_salary(self):\n",
    "        return self.salary*12\n",
    "employee=Employee('Jimin','Data scientist',100000)\n",
    "annual_salary=employee.get_annual_salary()\n",
    "print(annual_salary)"
   ]
  },
  {
   "cell_type": "code",
   "execution_count": null,
   "id": "fb15b3e9-c3f2-4fc3-b74d-21e781f59f3c",
   "metadata": {},
   "outputs": [],
   "source": []
  },
  {
   "cell_type": "code",
   "execution_count": 2,
   "id": "3d58c814-01fc-409a-a2fe-9a9409d22104",
   "metadata": {},
   "outputs": [
    {
     "name": "stdout",
     "output_type": "stream",
     "text": [
      "{'a': 1, 'b': 2, 'c': 3}\n"
     ]
    }
   ],
   "source": [
    "\n",
    "list1=['a','b','c']\n",
    "list2=[1,2,3]\n",
    "\n",
    "my_list=dict(zip(list1,list2))\n",
    "    \n",
    "print(my_list)"
   ]
  },
  {
   "cell_type": "code",
   "execution_count": 16,
   "id": "edd08a45-5b53-4147-ba1a-4da9e73f5044",
   "metadata": {},
   "outputs": [
    {
     "name": "stdout",
     "output_type": "stream",
     "text": [
      "   CustomerID       Days  Male age  Female age  Male\n",
      "0           1     Monday        20          10    30\n",
      "1           2    Tuesday        21          20    50\n",
      "2           3  Wednesday        19          30    48\n",
      "3           4     Friday        18          10    84\n",
      "4           5   Saturday        25          25    90\n"
     ]
    }
   ],
   "source": [
    "import pandas as pd\n",
    "\n",
    "# initialise data dictionary.\n",
    "data_dict = {'CustomerID': [1, 2, 3, 4, 5],\n",
    "\t\t\t\n",
    "\t\t\t'Days': [\"Monday\", \"Tuesday\", \"Wednesday\", \"Friday\",\n",
    "\t\t\t\t\t\t\"Saturday\"],\n",
    "\t\t\t\n",
    "\t\t\t'Male age': [20, 21, 19, 18, 25],\n",
    "\t\t\t\n",
    "\t\t\t'Female age': [10, 20, 30, 10, 25],\n",
    "\t\t\t\n",
    "\t\t\t'Male': [30, 50, 48, 84, 90]}\n",
    "\n",
    "# Create DataFrame\n",
    "data = pd.DataFrame(data_dict)\n",
    "\n",
    "\n",
    "# Write to CSV file\n",
    "data.to_csv(\"Customers.csv\")\n",
    "\n",
    "# Print the output.\n",
    "print(data)\n"
   ]
  },
  {
   "cell_type": "code",
   "execution_count": null,
   "id": "c47e9a19-bfd9-444b-9130-f9aeac5a055f",
   "metadata": {},
   "outputs": [],
   "source": []
  }
 ],
 "metadata": {
  "kernelspec": {
   "display_name": "Python 3 (ipykernel)",
   "language": "python",
   "name": "python3"
  },
  "language_info": {
   "codemirror_mode": {
    "name": "ipython",
    "version": 3
   },
   "file_extension": ".py",
   "mimetype": "text/x-python",
   "name": "python",
   "nbconvert_exporter": "python",
   "pygments_lexer": "ipython3",
   "version": "3.11.5"
  }
 },
 "nbformat": 4,
 "nbformat_minor": 5
}
