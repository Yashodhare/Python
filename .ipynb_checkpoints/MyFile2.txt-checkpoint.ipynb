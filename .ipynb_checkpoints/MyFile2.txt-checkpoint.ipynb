{
 "cells": [
  {
   "cell_type": "code",
   "execution_count": 35,
   "id": "d52c3370",
   "metadata": {},
   "outputs": [
    {
     "name": "stdout",
     "output_type": "stream",
     "text": [
      "Successfully opened csv\n",
      "<class '_csv.reader'>\n",
      "The EV records of Veicles  0 Wheather condition: 66 and the Max_Temperature is: 9.1\n",
      "The EV records of Veicles  1 Wheather condition: 64 and the Max_Temperature is: 7.3\n",
      "The EV records of Veicles  2 Wheather condition: 100 and the Max_Temperature is: 7.2\n",
      "The EV records of Veicles  3 Wheather condition: 93 and the Max_Temperature is: 2.8\n"
     ]
    }
   ],
   "source": [
    "import csv\n",
    "c=0\n",
    "with open('C:/Users/MANJULA/Documents/EV_DataSheet.csv',\"r\") as file_object:\n",
    "    print('Successfully opened csv')\n",
    "    data=csv.reader(file_object)\n",
    "    print(type(data))\n",
    "    for line in data: \n",
    "        c=c+1\n",
    "        if c>5:\n",
    "                break\n",
    "        if c==1:\n",
    "                continue\n",
    "        print('The EV records of Veicles ',line[0],'Wheather condition:',line[1],'and the Max_Temperature is:',line[10])\n",
    "              #print(c,'Netflix has released',line[2],'on',line[7],'& directed',line[3])"
   ]
  },
  {
   "cell_type": "code",
   "execution_count": 94,
   "id": "4224144c",
   "metadata": {},
   "outputs": [
    {
     "name": "stdout",
     "output_type": "stream",
     "text": [
      "Successfully opened csv\n",
      "<class '_csv.reader'>\n",
      "The Brand  Ssangyong and the cost is 51990 in year 2022\n",
      "The Brand  MG and the cost is 19990 in year 2022\n",
      "The Brand  BMW and the cost is 108988 in year 2022\n",
      "The Brand  Mercedes-Benz and the cost is 32990 in year 2011\n"
     ]
    }
   ],
   "source": [
    "import csv\n",
    "c=0\n",
    "with open('C:/Users/MANJULA/Desktop/Australian_prices.csv',\"r\") as file_object:\n",
    "    print('Successfully opened csv')\n",
    "    data=csv.reader(file_object)\n",
    "    print(type(data))\n",
    "    for line in data: \n",
    "        c=c+1\n",
    "        if c>5:\n",
    "                break\n",
    "        if c==1:\n",
    "                continue\n",
    "        print('The Brand ',line[0],'and the cost is',line[18],'in year',line[1])"
   ]
  },
  {
   "cell_type": "code",
   "execution_count": 71,
   "id": "8d5782c6",
   "metadata": {},
   "outputs": [
    {
     "name": "stdout",
     "output_type": "stream",
     "text": [
      "Successfully opened csv\n",
      "<class '_csv.reader'>\n",
      "2126 is the Square_feet of bedrooms and bathrooms are : 4 and 1 and it costs:  215355.2836\n",
      "2459 is the Square_feet of bedrooms and bathrooms are : 3 and 2 and it costs:  195014.2216\n",
      "1860 is the Square_feet of bedrooms and bathrooms are : 2 and 1 and it costs:  306891.0121\n",
      "2294 is the Square_feet of bedrooms and bathrooms are : 2 and 1 and it costs:  206786.7872\n"
     ]
    }
   ],
   "source": [
    "import csv\n",
    "c=0\n",
    "with open('C:/Users/MANJULA/Desktop/House_predictiondatasheet.csv',\"r\") as file_object:\n",
    "    print('Successfully opened csv')\n",
    "    data=csv.reader(file_object)\n",
    "    print(type(data))\n",
    "    for line in data: \n",
    "        c=c+1\n",
    "        if c>5:\n",
    "                break\n",
    "        if c==1:\n",
    "                continue\n",
    "        print(line[0],'is the Square_feet of bedrooms and bathrooms are :',line[1],'and',line[2],'and it costs: ',line[5])"
   ]
  },
  {
   "cell_type": "code",
   "execution_count": 93,
   "id": "21b7827a",
   "metadata": {},
   "outputs": [
    {
     "name": "stdout",
     "output_type": "stream",
     "text": [
      "Successfully opened csv\n",
      "<class '_csv.reader'>\n",
      "The age of employee is: 39  having workclass of  State-gov earns salary about  <=50K\n",
      "The age of employee is: 50  having workclass of  Self-emp-not-inc earns salary about  <=50K\n",
      "The age of employee is: 38  having workclass of  Private earns salary about  <=50K\n",
      "The age of employee is: 53  having workclass of  Private earns salary about  <=50K\n"
     ]
    }
   ],
   "source": [
    "import csv\n",
    "c=0\n",
    "with open('C:/Users/MANJULA/Desktop/Salary.csv',\"r\") as file_object:\n",
    "    print('Successfully opened csv')\n",
    "    data=csv.reader(file_object)\n",
    "    print(type(data))\n",
    "    for line in data: \n",
    "        c=c+1\n",
    "        if c>5:\n",
    "                break\n",
    "        if c==1:\n",
    "                continue\n",
    "        print('The age of employee is:',line[0],' having workclass of',line[1],'earns salary about',line[14])"
   ]
  },
  {
   "cell_type": "code",
   "execution_count": 5,
   "id": "2937586f",
   "metadata": {},
   "outputs": [
    {
     "name": "stdout",
     "output_type": "stream",
     "text": [
      "CAR MAKER \n",
      "You have created a car whose name is VolksWagen, has Red colour\n",
      "with seating capacity of 5 having 4 wheels.\n",
      "My House \n",
      "It is 2 BHK fully owned house & is of  1200 sqrt area,\n",
      "having 2 bathrooms and it is furnished\n",
      "My Computer \n",
      "my computer is having these many futures which are located belove:\n",
      "Brand name:Apple\n",
      "Model name:MacBook Pro\n",
      "Name of Processor:Intel Core i7\n",
      "Amount of RAM:16GB\n",
      "List of Idol Groups we can see the group introduction here:\n",
      "The idol gruop:BTS having Company Big Hit consisting of Seven number of members and having Minimalist style of costumes\n"
     ]
    }
   ],
   "source": [
    "class MyVehicle:\n",
    "    #attr\n",
    "    car_name=''\n",
    "    car_colour=''\n",
    "    seating_capacity=''\n",
    "    number_of_wheels=0\n",
    "    #method\n",
    "    def carMaker(self):\n",
    "        print(f'CAR MAKER \\nYou have created a car whose name is {self.car_name}, has {self.car_colour} colour')\n",
    "        print(f'with seating capacity of {self.seating_capacity} having {self.number_of_wheels} wheels.')\n",
    "# create object\n",
    "car=MyVehicle()\n",
    "car.car_name='VolksWagen'\n",
    "car.car_colour='Red'\n",
    "car.seating_capacity=5\n",
    "car.number_of_wheels=4\n",
    "\n",
    "car.carMaker()\n",
    "\n",
    "class House:\n",
    "    #attr\n",
    "    land_size=0\n",
    "    number_of_bedrooms=0\n",
    "    number_of_bathrooms=0\n",
    "    Whether_furnished=''\n",
    "    home_ownership=''\n",
    "\n",
    "    #method\n",
    "    def myHouse(self):\n",
    "        print(f'My House \\nIt is {self.number_of_bedrooms} BHK {self.home_ownership} house & is of  {self.land_size} sqrt area,')\n",
    "        print(f'having {self.number_of_bathrooms} bathrooms and it is {self.Whether_furnished}')\n",
    "\n",
    "\n",
    "# create object\n",
    "home=House()\n",
    "home.land_size=1200\n",
    "home.number_of_bedrooms=2\n",
    "home.number_of_bathrooms=2\n",
    "home.Whether_furnished='furnished'\n",
    "home.home_ownership='fully owned'\n",
    "home.myHouse()\n",
    "\n",
    "class Computer:\n",
    "\n",
    "    brand=''\n",
    "    model=''\n",
    "    processor=''\n",
    "    amount_of_RAM=''\n",
    "\n",
    "    def myComputer(self):\n",
    "        print(f'My Computer \\nmy computer is having these many futures which are located belove:')\n",
    "        print(f'Brand name:{self.brand}\\nModel name:{self.model}\\nName of Processor:{self.processor}\\nAmount of RAM:{self.amount_of_RAM}')\n",
    "\n",
    "computer=Computer()\n",
    "computer.brand='Apple'\n",
    "computer.model='MacBook Pro'\n",
    "computer.processor='Intel Core i7'\n",
    "computer.amount_of_RAM='16GB'\n",
    "computer.myComputer()\n",
    "\n",
    "class Idol:\n",
    "\n",
    "    name_of_idol_group=''\n",
    "    production_company=''\n",
    "    number_of_members=''\n",
    "    number_of_costumes=''\n",
    "    \n",
    "\n",
    "    def myIdol(self):\n",
    "        print(f'List of Idol Groups we can see the group introduction here:')\n",
    "        print(f'The idol gruop:{self.name_of_idol_group} having Company {self.production_company} consisting of {self.number_of_members} number of members and having {self.number_of_costumes} style of costumes')\n",
    "\n",
    "idol=Idol()\n",
    "idol.name_of_idol_group='BTS'\n",
    "idol.production_company='Big Hit'\n",
    "idol.number_of_members='Seven'\n",
    "idol.number_of_costumes='Minimalist'\n",
    "idol.myIdol()"
   ]
  },
  {
   "cell_type": "code",
   "execution_count": 8,
   "id": "be1f7bde-4db0-4a7b-a6ba-3a4fa456c52a",
   "metadata": {},
   "outputs": [
    {
     "name": "stdout",
     "output_type": "stream",
     "text": [
      "My name is Data_Scientist age is 24 and I earn 40000 and I have experience in Data mining\n",
      "My name is Data_Translator age is 24 and I earn 40000 and I have experience in Business challenges\n",
      "My name is Information_Designer age is 24 and I earn 40000 and I have experience in Graphic design\n",
      "My name is Machine_Learning_Engineer age is 24 and I earn 40000 and I have experience in Mathematical data and manupalation\n",
      "My name is Data_Science_Manager age is 24 and I earn 40000 and I have experience in Data management process\n"
     ]
    }
   ],
   "source": [
    "class Engineer:\n",
    "    def __init__(self,name,age,salary):\n",
    "        self.name=name\n",
    "        self.age=age\n",
    "        self.salary=salary\n",
    "\n",
    "    def work(self):\n",
    "        print(f'My name is {self.name} age is {self.age} and I earn {self.salary}.')\n",
    "\n",
    "class Data_Scientist(Engineer):\n",
    "    def __init__(self,name,age,salary,skills):\n",
    "        super().__init__(name,age,salary)\n",
    "        self.skills=skills\n",
    "\n",
    "    def work(self):\n",
    "        print(f'My name is {self.name} age is {self.age} and I earn {self.salary} and I have experience in {self.skills}')\n",
    "class Data_Translator(Engineer):\n",
    "    def __init__(self,name,age,salary,area_of_expertise):\n",
    "        super().__init__(name,age,salary)\n",
    "        self.area_of_expertise=area_of_expertise\n",
    "\n",
    "    def work(self):\n",
    "        print(f'My name is {self.name} age is {self.age} and I earn {self.salary} and I have experience in {self.area_of_expertise}')\n",
    "        \n",
    "class Information_Designer(Engineer):\n",
    "    def __init__(self,name,age,salary,area_of_expertise):\n",
    "        super().__init__(name,age,salary)\n",
    "        self.area_of_expertise=area_of_expertise\n",
    "\n",
    "    def work(self):\n",
    "            print(f'My name is {self.name} age is {self.age} and I earn {self.salary} and I have experience in {self.area_of_expertise}')   \n",
    "\n",
    "class Machine_Learning_Engineer(Engineer):\n",
    "    def __init__(self,name,age,salary,area_of_expertise):\n",
    "        super().__init__(name,age,salary)\n",
    "        self.area_of_expertise=area_of_expertise\n",
    "\n",
    "    def work(self):\n",
    "        print(f'My name is {self.name} age is {self.age} and I earn {self.salary} and I have experience in {self.area_of_expertise}')\n",
    "\n",
    "class Data_Science_Manager(Engineer):\n",
    "    def __init__(self,name,age,salary,area_of_expertise):\n",
    "        super().__init__(name,age,salary)\n",
    "        self.area_of_expertise=area_of_expertise\n",
    "\n",
    "    def work(self):\n",
    "        print(f'My name is {self.name} age is {self.age} and I earn {self.salary} and I have experience in {self.area_of_expertise}')\n",
    "\n",
    "obj1=Data_Scientist('Data_Scientist',24,40000,'Data mining')\n",
    "obj2=Data_Translator('Data_Translator',24,40000,'Business challenges')\n",
    "obj3=Information_Designer('Information_Designer',24,40000,'Graphic design')\n",
    "obj4=Machine_Learning_Engineer('Machine_Learning_Engineer',24,40000,'Mathematical data and manupalation')\n",
    "obj5=Data_Science_Manager('Data_Science_Manager',24,40000,'Data management process')\n",
    "obj1.work()\n",
    "obj2.work()\n",
    "obj3.work()\n",
    "obj4.work()\n",
    "obj5.work()"
   ]
  },
  {
   "cell_type": "code",
   "execution_count": null,
   "id": "c9d0b5b2-59f3-4338-a3c7-27757bdfec39",
   "metadata": {},
   "outputs": [],
   "source": []
  }
 ],
 "metadata": {
  "kernelspec": {
   "display_name": "Python 3 (ipykernel)",
   "language": "python",
   "name": "python3"
  },
  "language_info": {
   "codemirror_mode": {
    "name": "ipython",
    "version": 3
   },
   "file_extension": ".py",
   "mimetype": "text/x-python",
   "name": "python",
   "nbconvert_exporter": "python",
   "pygments_lexer": "ipython3",
   "version": "3.11.5"
  }
 },
 "nbformat": 4,
 "nbformat_minor": 5
}
