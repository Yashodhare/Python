{
 "cells": [
  {
   "cell_type": "code",
   "execution_count": 35,
   "id": "d52c3370",
   "metadata": {},
   "outputs": [
    {
     "name": "stdout",
     "output_type": "stream",
     "text": [
      "Successfully opened csv\n",
      "<class '_csv.reader'>\n",
      "The EV records of Veicles  0 Wheather condition: 66 and the Max_Temperature is: 9.1\n",
      "The EV records of Veicles  1 Wheather condition: 64 and the Max_Temperature is: 7.3\n",
      "The EV records of Veicles  2 Wheather condition: 100 and the Max_Temperature is: 7.2\n",
      "The EV records of Veicles  3 Wheather condition: 93 and the Max_Temperature is: 2.8\n"
     ]
    }
   ],
   "source": [
    "import csv\n",
    "c=0\n",
    "with open('C:/Users/MANJULA/Documents/EV_DataSheet.csv',\"r\") as file_object:\n",
    "    print('Successfully opened csv')\n",
    "    data=csv.reader(file_object)\n",
    "    print(type(data))\n",
    "    for line in data: \n",
    "        c=c+1\n",
    "        if c>5:\n",
    "                break\n",
    "        if c==1:\n",
    "                continue\n",
    "        print('The EV records of Veicles ',line[0],'Wheather condition:',line[1],'and the Max_Temperature is:',line[10])\n",
    "              #print(c,'Netflix has released',line[2],'on',line[7],'& directed',line[3])"
   ]
  },
  {
   "cell_type": "code",
   "execution_count": 50,
   "id": "4224144c",
   "metadata": {},
   "outputs": [
    {
     "name": "stdout",
     "output_type": "stream",
     "text": [
      "Successfully opened csv\n",
      "<class '_csv.reader'>\n",
      "2 The Brand  Ssangyong and the cost is 51990 in year 2022\n",
      "3 The Brand  MG and the cost is 19990 in year 2022\n",
      "4 The Brand  BMW and the cost is 108988 in year 2022\n",
      "5 The Brand  Mercedes-Benz and the cost is 32990 in year 2011\n"
     ]
    }
   ],
   "source": [
    "import csv\n",
    "c=0\n",
    "with open('C:/Users/MANJULA/Desktop/Australian_prices.csv',\"r\") as file_object:\n",
    "    print('Successfully opened csv')\n",
    "    data=csv.reader(file_object)\n",
    "    print(type(data))\n",
    "    for line in data: \n",
    "        c=c+1\n",
    "        if c>5:\n",
    "                break\n",
    "        if c==1:\n",
    "                continue\n",
    "        print(c,'The Brand ',line[0],'and the cost is',line[18],'in year',line[1])"
   ]
  },
  {
   "cell_type": "code",
   "execution_count": 71,
   "id": "8d5782c6",
   "metadata": {},
   "outputs": [
    {
     "name": "stdout",
     "output_type": "stream",
     "text": [
      "Successfully opened csv\n",
      "<class '_csv.reader'>\n",
      "2126 is the Square_feet of bedrooms and bathrooms are : 4 and 1 and it costs:  215355.2836\n",
      "2459 is the Square_feet of bedrooms and bathrooms are : 3 and 2 and it costs:  195014.2216\n",
      "1860 is the Square_feet of bedrooms and bathrooms are : 2 and 1 and it costs:  306891.0121\n",
      "2294 is the Square_feet of bedrooms and bathrooms are : 2 and 1 and it costs:  206786.7872\n"
     ]
    }
   ],
   "source": [
    "import csv\n",
    "c=0\n",
    "with open('C:/Users/MANJULA/Desktop/House_predictiondatasheet.csv',\"r\") as file_object:\n",
    "    print('Successfully opened csv')\n",
    "    data=csv.reader(file_object)\n",
    "    print(type(data))\n",
    "    for line in data: \n",
    "        c=c+1\n",
    "        if c>5:\n",
    "                break\n",
    "        if c==1:\n",
    "                continue\n",
    "        print(line[0],'is the Square_feet of bedrooms and bathrooms are :',line[1],'and',line[2],'and it costs: ',line[5])"
   ]
  },
  {
   "cell_type": "code",
   "execution_count": 93,
   "id": "21b7827a",
   "metadata": {},
   "outputs": [
    {
     "name": "stdout",
     "output_type": "stream",
     "text": [
      "Successfully opened csv\n",
      "<class '_csv.reader'>\n",
      "The age of employee is: 39  having workclass of  State-gov earns salary about  <=50K\n",
      "The age of employee is: 50  having workclass of  Self-emp-not-inc earns salary about  <=50K\n",
      "The age of employee is: 38  having workclass of  Private earns salary about  <=50K\n",
      "The age of employee is: 53  having workclass of  Private earns salary about  <=50K\n"
     ]
    }
   ],
   "source": [
    "import csv\n",
    "c=0\n",
    "with open('C:/Users/MANJULA/Desktop/Salary.csv',\"r\") as file_object:\n",
    "    print('Successfully opened csv')\n",
    "    data=csv.reader(file_object)\n",
    "    print(type(data))\n",
    "    for line in data: \n",
    "        c=c+1\n",
    "        if c>5:\n",
    "                break\n",
    "        if c==1:\n",
    "                continue\n",
    "        print('The age of employee is:',line[0],' having workclass of',line[1],'earns salary about',line[14])"
   ]
  },
  {
   "cell_type": "code",
   "execution_count": null,
   "id": "2937586f",
   "metadata": {},
   "outputs": [],
   "source": []
  }
 ],
 "metadata": {
  "kernelspec": {
   "display_name": "Python 3 (ipykernel)",
   "language": "python",
   "name": "python3"
  },
  "language_info": {
   "codemirror_mode": {
    "name": "ipython",
    "version": 3
   },
   "file_extension": ".py",
   "mimetype": "text/x-python",
   "name": "python",
   "nbconvert_exporter": "python",
   "pygments_lexer": "ipython3",
   "version": "3.11.5"
  }
 },
 "nbformat": 4,
 "nbformat_minor": 5
}
