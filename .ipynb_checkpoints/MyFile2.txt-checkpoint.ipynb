{
 "cells": [
  {
   "cell_type": "code",
   "execution_count": null,
   "id": "c8434a3f-ee40-4863-95cf-89fd083a631f",
   "metadata": {},
   "outputs": [],
   "source": [
    "#7 ans"
   ]
  },
  {
   "cell_type": "code",
   "execution_count": 153,
   "id": "0e85c075-3fd5-4dd3-9694-3e89eff78d9c",
   "metadata": {},
   "outputs": [
    {
     "name": "stdin",
     "output_type": "stream",
     "text": [
      "Enter principal amount 7500\n",
      "Enter time 2\n",
      "Enter rate of interest 10\n"
     ]
    },
    {
     "name": "stdout",
     "output_type": "stream",
     "text": [
      "The simple interest is = 1500.0\n"
     ]
    }
   ],
   "source": [
    "p=int(input('Enter principal amount'))\n",
    "t=int(input('Enter time'))\n",
    "r=int(input('Enter rate of interest'))\n",
    "si=p*t*r/100\n",
    "print(f'The simple interest is = {si}')"
   ]
  },
  {
   "cell_type": "code",
   "execution_count": null,
   "id": "cde0adc6-c1a1-4423-a93c-de850eaa7d93",
   "metadata": {},
   "outputs": [],
   "source": [
    "#5 Ans"
   ]
  },
  {
   "cell_type": "code",
   "execution_count": 2,
   "id": "2295c062-3bcf-41d7-b5e4-d223a66916d0",
   "metadata": {},
   "outputs": [
    {
     "name": "stdout",
     "output_type": "stream",
     "text": [
      "{'a': 1, 'b': 2, 'c': 3}\n"
     ]
    }
   ],
   "source": [
    "list1=['a','b','c']\n",
    "list2=[1,2,3]\n",
    "\n",
    "my_list=dict(zip(list1,list2))\n",
    "    \n",
    "print(my_list)"
   ]
  },
  {
   "cell_type": "code",
   "execution_count": null,
   "id": "598b8e89-1704-46ad-9a6f-2b57d7123fe1",
   "metadata": {},
   "outputs": [],
   "source": [
    "#2 Ans"
   ]
  },
  {
   "cell_type": "code",
   "execution_count": 3,
   "id": "f033c04f-7a83-41e4-a929-7140ba800315",
   "metadata": {},
   "outputs": [
    {
     "name": "stdout",
     "output_type": "stream",
     "text": [
      "1200000\n"
     ]
    }
   ],
   "source": [
    "class Employee:\n",
    "    def __init__(self,name,position,salary):\n",
    "        self.name=name\n",
    "        self.position=position\n",
    "        self.salary=salary\n",
    "    def get_annual_salary(self):\n",
    "        return self.salary*12\n",
    "employee=Employee('Jimin','Data scientist',100000)\n",
    "annual_salary=employee.get_annual_salary()\n",
    "print(annual_salary)"
   ]
  },
  {
   "cell_type": "code",
   "execution_count": null,
   "id": "0df2cf9d-c226-4606-bbba-5376086aeb50",
   "metadata": {},
   "outputs": [],
   "source": [
    "#1 Ans"
   ]
  },
  {
   "cell_type": "code",
   "execution_count": 9,
   "id": "04dbb147-0016-4919-a9d3-7dab2449ea37",
   "metadata": {},
   "outputs": [],
   "source": [
    "import csv\n",
    "\n",
    "def read_csv(file_path):\n",
    "    with open('C:/Users/MANJULA/Desktop/Book2.csv', 'r') as file:\n",
    "        reader = csv.reader(file)\n",
    "        data = [list(map(int, row)) for row in reader]\n",
    "    return data\n",
    "\n",
    "def even_numbers_from_csv(input_file, output_file):\n",
    "    \n",
    "    numbers = read_csv(input_file)\n",
    "\n",
    "    \n",
    "    even_numbers = [num for row in numbers for num in row if num % 2 == 0]\n",
    "\n",
    "\n",
    "    with open(output_file, 'w', newline='') as file:\n",
    "        writer = csv.writer(file)\n",
    "        writer.writerow(even_numbers)\n",
    "\n",
    "input_csv_path = 'input.csv'  \n",
    "output_csv_path = 'even_numbers_output.csv'  \n",
    "\n",
    "even_numbers_from_csv(input_csv_path, output_csv_path)\n"
   ]
  },
  {
   "cell_type": "code",
   "execution_count": null,
   "id": "52236b7d-0da4-4178-bb27-8876f5d8dee9",
   "metadata": {},
   "outputs": [],
   "source": [
    "#6 Ans"
   ]
  },
  {
   "cell_type": "code",
   "execution_count": 10,
   "id": "0eef2259-c599-435d-8f1d-aeb33611b129",
   "metadata": {},
   "outputs": [
    {
     "name": "stdin",
     "output_type": "stream",
     "text": [
      "Enter First num: 23\n",
      "Enter Second num: 45\n",
      "Enter Third num: 64\n"
     ]
    },
    {
     "name": "stdout",
     "output_type": "stream",
     "text": [
      "The largest num is:64.0\n"
     ]
    }
   ],
   "source": [
    "def max_value(n1,n2,n3):\n",
    "    return max(n1,n2,n3)\n",
    "\n",
    "num1=float(input('Enter First num:'))\n",
    "num2=float(input('Enter Second num:'))\n",
    "num3=float(input('Enter Third num:'))\n",
    "\n",
    "largest=max_value(num1,num2,num3)\n",
    "print(f'The largest num is:{largest}')\n"
   ]
  },
  {
   "cell_type": "code",
   "execution_count": 15,
   "id": "017a156d-4efa-456e-a892-e3db11cc5abe",
   "metadata": {},
   "outputs": [
    {
     "name": "stdout",
     "output_type": "stream",
     "text": [
      "[1, 4, 9, 16, 25]\n"
     ]
    }
   ],
   "source": [
    "# 4 Ans\n",
    "numbers=[1,2,3,4,5]\n",
    "square=list(map(lambda x:x**2,numbers))\n",
    "print(square)"
   ]
  },
  {
   "cell_type": "code",
   "execution_count": null,
   "id": "123c34c1-85ce-46ee-a5f9-0232cdc78695",
   "metadata": {},
   "outputs": [],
   "source": []
  }
 ],
 "metadata": {
  "kernelspec": {
   "display_name": "Python 3 (ipykernel)",
   "language": "python",
   "name": "python3"
  },
  "language_info": {
   "codemirror_mode": {
    "name": "ipython",
    "version": 3
   },
   "file_extension": ".py",
   "mimetype": "text/x-python",
   "name": "python",
   "nbconvert_exporter": "python",
   "pygments_lexer": "ipython3",
   "version": "3.11.5"
  }
 },
 "nbformat": 4,
 "nbformat_minor": 5
}
