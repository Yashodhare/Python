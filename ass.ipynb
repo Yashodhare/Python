{
 "cells": [
  {
   "cell_type": "code",
   "execution_count": 1,
   "id": "c4431c37",
   "metadata": {},
   "outputs": [
    {
     "name": "stdout",
     "output_type": "stream",
     "text": [
      "A12\n",
      "B23\n",
      "C56\n",
      "The laregest of numbers among 12,23,and 56 is 56\n"
     ]
    }
   ],
   "source": [
    "a=int(input('A'))\n",
    "b=int(input('B'))\n",
    "c=int(input('C'))\n",
    "if a>=b and a>=c:\n",
    "    large=a\n",
    "elif b>=a and b>=c:\n",
    "    large=b\n",
    "else :\n",
    "    large=c\n",
    "print('The laregest of numbers among {},{},and {} is {}'.format(a,b,c,large))"
   ]
  },
  {
   "cell_type": "code",
   "execution_count": null,
   "id": "d52c3370",
   "metadata": {},
   "outputs": [],
   "source": []
  }
 ],
 "metadata": {
  "kernelspec": {
   "display_name": "Python 3 (ipykernel)",
   "language": "python",
   "name": "python3"
  },
  "language_info": {
   "codemirror_mode": {
    "name": "ipython",
    "version": 3
   },
   "file_extension": ".py",
   "mimetype": "text/x-python",
   "name": "python",
   "nbconvert_exporter": "python",
   "pygments_lexer": "ipython3",
   "version": "3.11.5"
  }
 },
 "nbformat": 4,
 "nbformat_minor": 5
}
